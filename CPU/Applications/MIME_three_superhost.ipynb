{
 "cells": [
  {
   "cell_type": "code",
   "execution_count": 1,
   "metadata": {
    "ExecuteTime": {
     "end_time": "2024-05-14T06:49:53.751034Z",
     "start_time": "2024-05-14T06:49:53.331012Z"
    }
   },
   "outputs": [],
   "source": [
    "import mmh3\n",
    "import numpy as np\n",
    "from tqdm import tqdm\n",
    "from collections import defaultdict\n",
    "import pandas as pd\n",
    "import matplotlib.pyplot as plt\n",
    "import math"
   ]
  },
  {
   "cell_type": "code",
   "execution_count": 2,
   "metadata": {
    "ExecuteTime": {
     "end_time": "2024-05-14T06:49:53.755360Z",
     "start_time": "2024-05-14T06:49:53.752818Z"
    }
   },
   "outputs": [],
   "source": [
    "plot_titles = {\n",
    "    0: \"per-source destination flow\",\n",
    "    1: \"per-source port flow\",\n",
    "    2: \"per-destination source flow\",\n",
    "    3: \"per-service source flow\",\n",
    "    4: \"per-source service flow\"\n",
    "}\n",
    "addition_info = \"_1_min_\"\n",
    "addition_dir = \"1 min\""
   ]
  },
  {
   "cell_type": "code",
   "execution_count": 3,
   "metadata": {
    "ExecuteTime": {
     "end_time": "2024-05-14T06:49:53.816133Z",
     "start_time": "2024-05-14T06:49:53.757352Z"
    }
   },
   "outputs": [],
   "source": [
    "class MIME:\n",
    "    '''\n",
    "     prob: the overall sampling rate of MIME\n",
    "     bits: the number of total bits in MIME\n",
    "    '''\n",
    "    def __init__(self, prob, bits):\n",
    "        self.prob = prob\n",
    "        self.bits = bits\n",
    "        self.B = np.zeros(shape = (self.bits, ), dtype = np.int8)\n",
    "        self.hash_seed = 12412\n",
    "        self.sample_seed = 97561\n",
    "        self.port_seed = 91231\n",
    "        self.bitcube_dc = dict()\n",
    "        self.bitcube_dpc = dict()\n",
    "        self.bitcube_sc = dict()\n",
    "        self.invbitcube = dict()\n",
    "        self.servicebitcube = dict()\n",
    "        self.sample_nums = 0\n",
    "        self.count_one = 0\n",
    "        self.post_sampling_rate = self.prob\n",
    "        self.split_num = math.ceil(1 / self.prob)\n",
    "        self.T_dc = 100\n",
    "        self.T_dpc = 100\n",
    "        self.T_sc = 100\n",
    "        '''\n",
    "          detect super host\n",
    "        '''\n",
    "        self.dc_muls = defaultdict(int)\n",
    "        self.dpc_muls = defaultdict(int)\n",
    "        self.sc_muls = defaultdict(int)\n",
    "        self.dc_counters = defaultdict(float)\n",
    "        self.dpc_counters = defaultdict(float)\n",
    "        self.sc_counters = defaultdict(float)\n",
    "        \n",
    "        self.vert_port_scanners = set([])\n",
    "        self.hor_port_scanners = set([])\n",
    "        self.ddos_attackers = set([])\n",
    "        \n",
    "        self.real_vert_port = set([])\n",
    "        self.real_hor_port = set([])\n",
    "        self.real_ddos_attackers = set([])\n",
    "        \n",
    "        self.real_spread_set_dc = defaultdict(set)\n",
    "        self.real_spread_set_dpc = defaultdict(set)\n",
    "        self.real_spread_set_sc = defaultdict(set)\n",
    "        self.real_spread_set_service = defaultdict(set)\n",
    "        self.real_spread_set_sservice = defaultdict(set)\n",
    "        \n",
    "        self.real_spreads_dc = defaultdict(int)\n",
    "        self.pred_spreads_dc = defaultdict(int)\n",
    "        self.real_spreads_dpc = defaultdict(int)\n",
    "        self.real_spread_service = defaultdict(int)\n",
    "        self.real_spread_sservice = defaultdict(int)\n",
    "        \n",
    "        self.pred_spreads_dpc = defaultdict(int)\n",
    "        self.real_spreads_sc = defaultdict(int)\n",
    "        self.pred_spreads_sc = defaultdict(int)\n",
    "        self.pred_spreads_service = defaultdict(int)\n",
    "        self.pred_spreads_sservice = defaultdict(int) \n",
    "        \n",
    "        self.are_dc = 0\n",
    "        self.are_dpc = 0\n",
    "        self.are_sc = 0\n",
    "        self.are_service = 0\n",
    "        self.are_sservice = 0\n",
    "        \n",
    "        self.dc_count = 0\n",
    "        self.dpc_count = 0\n",
    "        self.sc_count = 0\n",
    "        self.service_count = 0\n",
    "        self.sservice_count = 0\n",
    "        \n",
    "        self.are_range_dc = dict()\n",
    "        self.are_range_dpc = dict()\n",
    "        self.are_range_sc = dict()\n",
    "        self.are_range_service = dict()\n",
    "        self.are_range_sservice = dict()\n",
    "        \n",
    "        self.are_count_dc = dict()\n",
    "        self.are_count_dpc = dict()\n",
    "        self.are_count_sc = dict()\n",
    "        self.are_count_service = dict()\n",
    "        self.are_count_sservice = dict()\n",
    "        \n",
    "        for i in range(7):\n",
    "            self.are_count_dc[i] = 0\n",
    "            self.are_count_dpc[i] = 0\n",
    "            self.are_count_sc[i] = 0\n",
    "            self.are_count_service[i] = 0\n",
    "            self.are_count_sservice[i] = 0\n",
    "            \n",
    "            self.are_range_dc[i] = 0\n",
    "            self.are_range_dpc[i] = 0\n",
    "            self.are_range_sc[i] = 0\n",
    "            self.are_range_service[i] = 0\n",
    "            self.are_range_sservice[i] = 0\n",
    "    \n",
    "    def add_value(self, key, mul, task):\n",
    "        if task == 0:\n",
    "            if key not in self.dc_counters: #如果该流标签没有被监测，则直接加入到片下的哈希表中\n",
    "                if mul < self.split_num:\n",
    "                    self.dc_counters[key] = 1 / (1 - (1 - self.prob) ** mul)\n",
    "                else:\n",
    "                    self.dc_counters[key] = 1 / (1 - (1 - self.prob) ** (mul / self.prob))\n",
    "            else: # 如果该流标签被监测，且当前元素的重复度为1，则直接更新\n",
    "                if mul == 1:\n",
    "                    self.dc_counters[key] += 1 / (1 - (1 - self.prob) ** mul)\n",
    "                else: #如果该元素的重复不是为1，则一定之前被哈希表错误的记录过，此时需要将前一个重复度计数减去，然后加上当前的重复度计数，相当于直接将两个计数的差值相加\n",
    "                    pre_mul = mul - 1\n",
    "                    value1 = 1 / (1 - (1 - self.prob) ** mul) if mul < self.split_num else 1 / (1 - (1 - self.prob) ** (mul / self.prob))\n",
    "                    value2 = 1 / (1 - (1 - self.prob) ** pre_mul) if pre_mul < self.split_num else 1 /(1 - (1 - self.prob) ** (pre_mul / self.prob))\n",
    "                    delta = value1 - value2\n",
    "                    self.dc_counters[key] += delta\n",
    "            if key not in self.hor_port_scanners:\n",
    "                if self.dc_counters[key] >= self.T_dc:\n",
    "                    self.hor_port_scanners.add(key)\n",
    "            else:\n",
    "                if self.dc_counters[key] < self.T_dc:\n",
    "                    self.hor_port_scanners.remove(key)\n",
    "        elif task == 1:\n",
    "            if key not in self.dpc_counters:\n",
    "                if mul < self.split_num:\n",
    "                    self.dpc_counters[key] = 1 / (1 - (1 - self.prob) ** mul)\n",
    "                else:\n",
    "                    self.dpc_counters[key] = 1 / (1 - (1 - self.prob) ** (mul / self.prob))\n",
    "            else:\n",
    "                if mul == 1:\n",
    "                    self.dpc_counters[key] += 1 / (1 - (1 - self.prob) ** mul)\n",
    "                else:\n",
    "                    pre_mul = mul - 1\n",
    "                    value1 = 1 / (1 - (1 - self.prob) ** mul) if mul < self.split_num else 1 / (1 - (1 - self.prob) ** (mul / self.prob))\n",
    "                    value2 = 1 / (1 - (1 - self.prob) ** pre_mul) if pre_mul < self.split_num else 1 /(1 - (1 - self.prob) ** (pre_mul / self.prob))\n",
    "                    delta = value1 - value2\n",
    "                    self.dpc_counters[key] += delta\n",
    "                if key not in self.vert_port_scanners:\n",
    "                    if self.dpc_counters[key] >= self.T_dpc:\n",
    "                        self.vert_port_scanners.add(key)\n",
    "                else:\n",
    "                    if self.dpc_counters[key] < self.T_dpc:\n",
    "                        self.vert_port_scanners.remove(key)\n",
    "        elif task == 2:\n",
    "            if key not in self.sc_counters:\n",
    "                if mul < self.split_num:\n",
    "                    self.sc_counters[key] = 1 / (1 - (1 - self.prob) ** mul)\n",
    "                else:\n",
    "                    self.sc_counters[key] = 1 / (1 - (1 - self.prob) ** (mul / self.prob))\n",
    "            else:\n",
    "                if mul == 1:\n",
    "                    self.sc_counters[key] += 1 / (1 - (1 - self.prob) ** mul)\n",
    "                else:\n",
    "                    pre_mul = mul - 1\n",
    "                    value1 = 1 / (1 - (1 - self.prob) ** mul) if mul < self.split_num else 1 / (1 - (1 - self.prob) ** (mul / self.prob))\n",
    "                    value2 = 1 / (1 - (1 - self.prob) ** pre_mul) if pre_mul < self.split_num else 1 /(1 - (1 - self.prob) ** (pre_mul / self.prob))\n",
    "                    delta = value1 - value2\n",
    "                    self.sc_counters[key] += delta\n",
    "                if key not in self.ddos_attackers:\n",
    "                    if self.sc_counters[key] >= self.T_sc:\n",
    "                        self.ddos_attackers.add(key)\n",
    "                else:\n",
    "                    if self.sc_counters[key] < self.T_sc:\n",
    "                        self.ddos_attackers.remove(key)\n",
    "    \n",
    "    def offline(self, src, dst, port):\n",
    "        # 将下载到片下的无重元素保存在DC方体中\n",
    "        if src not in self.bitcube_dc:\n",
    "            self.bitcube_dc[src] = {dst:{port}}\n",
    "            self.add_value(src, 1, 0)\n",
    "        else:\n",
    "            if dst not in self.bitcube_dc[src]:\n",
    "                self.bitcube_dc[src][dst] = {port}\n",
    "                self.add_value(src, 1, 0)\n",
    "            else:\n",
    "                self.bitcube_dc[src][dst].add(port) #考虑无重采样的性质不可能重复计数\n",
    "                self.add_value(src, len(self.bitcube_dc[src][dst]), 0)\n",
    "        #将下载到片下的无重元素保存在DPC方体中\n",
    "        if src not in self.bitcube_dpc:\n",
    "            self.bitcube_dpc[src] = {port:{dst}}\n",
    "            self.add_value(src, 1, 1)\n",
    "        else:\n",
    "            if port not in self.bitcube_dpc[src]:\n",
    "                self.bitcube_dpc[src][port] = {dst}\n",
    "                self.add_value(src, 1, 1)\n",
    "            else:\n",
    "                self.bitcube_dpc[src][port].add(dst) #考虑无重采样的性质不可能重复计数\n",
    "                self.add_value(src, len(self.bitcube_dpc[src][port]), 1)\n",
    "        #将下载到片下的无重元素保存在SC方体中\n",
    "        if dst not in self.bitcube_sc:\n",
    "            self.bitcube_sc[dst] = {src:{port}}\n",
    "            self.add_value(dst, 1, 2)\n",
    "        else:\n",
    "            if src not in self.bitcube_sc[dst]:\n",
    "                self.bitcube_sc[dst][src] = {port}\n",
    "                self.add_value(dst, 1, 2)\n",
    "            else:\n",
    "                self.bitcube_sc[dst][src].add(port)\n",
    "                self.add_value(dst, len(self.bitcube_sc[dst][src]), 2)\n",
    "    \n",
    "    def sample(self, src, dst, port):\n",
    "        key = src + dst + port\n",
    "        hash_idx = mmh3.hash(key, seed = self.hash_seed) % self.bits\n",
    "        if self.B[hash_idx] == 0:\n",
    "            #sample_idx = mmh3.hash(key, seed = self.sample_seed) % 0xffffffff\n",
    "            self.B[hash_idx] = 1\n",
    "            self.count_one += 1\n",
    "            #if sample_idx <= self.post_sampling_rate * 0xffffffff:\n",
    "            if hash_idx <= self.post_sampling_rate * self.bits:\n",
    "                self.offline(src, dst, port)\n",
    "                self.sample_nums += 1\n",
    "            self.post_sampling_rate = (self.prob * self.bits) / (self.bits - self.count_one)\n",
    "    \n",
    "    def show_sdc(self):\n",
    "        TP = len(self.hor_port_scanners.intersection(self.real_hor_port))\n",
    "        FP = len(self.hor_port_scanners - self.real_hor_port)\n",
    "        FN = len(self.real_hor_port - self.hor_port_scanners)\n",
    "        precision = TP / (TP + FP)\n",
    "        recall = TP / (TP + FN)\n",
    "        F1 = (2 * precision * recall) / (precision + recall)\n",
    "        print(\"水平扫描攻击：准确率：{:.2f}， 召回率：{:.2f}，F1：{:.2f}.\".format(precision, recall, F1))\n",
    "        return precision, recall, F1\n",
    "    \n",
    "    def show_sdpc(self):\n",
    "        TP = len(self.vert_port_scanners.intersection(self.real_vert_port))\n",
    "        FP = len(self.vert_port_scanners - self.real_vert_port)\n",
    "        FN = len(self.real_vert_port - self.vert_port_scanners)\n",
    "        precision = TP / (TP + FP)\n",
    "        recall = TP / (TP + FN)\n",
    "        F1 = (2 * precision * recall) / (precision + recall)\n",
    "        print(\"垂直扫描攻击：准确率：{:.2f}， 召回率：{:.2f}，F1：{:.2f}.\".format(precision, recall, F1))\n",
    "        return precision, recall, F1\n",
    "    \n",
    "    def show_ssc(self):\n",
    "        TP = len(self.ddos_attackers.intersection(self.real_ddos_attackers))\n",
    "        FP = len(self.ddos_attackers - self.real_ddos_attackers)\n",
    "        FN = len(self.real_ddos_attackers - self.ddos_attackers)\n",
    "        precision = TP / (TP + FP)\n",
    "        recall = TP / (TP + FN)\n",
    "        F1 = (2 * precision * recall) / (precision + recall)\n",
    "        print(\"DDoS攻击：准确率：{:.2f}， 召回率：{:.2f}， F1：{:.2f}.\".format(precision, recall, F1))\n",
    "        return precision, recall, F1\n",
    "    \n",
    "    def build_inv_table(self):\n",
    "        for src in self.bitcube_dc:\n",
    "            for dst in self.bitcube_dc[src]:\n",
    "                if dst not in self.invbitcube:\n",
    "                    self.invbitcube[dst] = {src : self.bitcube_dc[src][dst]}\n",
    "                else:\n",
    "                    if src not in self.invbitcube[dst]:\n",
    "                        self.invbitcube[dst][src] = self.bitcube_dc[src][dst]\n",
    "    \n",
    "    def build_service_table(self):\n",
    "        for dst in self.invbitcube:\n",
    "            self.servicebitcube[dst] = dict()\n",
    "            for src in self.invbitcube[dst]:\n",
    "                for port in self.invbitcube[dst][src]:\n",
    "                    if port not in self.servicebitcube[dst]:\n",
    "                        self.servicebitcube[dst][port] = {src}\n",
    "                    else:\n",
    "                        self.servicebitcube[dst][port].add(src)\n",
    "    \n",
    "    def estimate(self, key, task): # flow label：1 element label：1\n",
    "        length_dict, num_dict = defaultdict(int), defaultdict(int)\n",
    "        if task == 0: # DC estimation\n",
    "            if key not in self.bitcube_dc:\n",
    "                return 1\n",
    "            temp_bitarray = self.bitcube_dc[key]\n",
    "            for index in temp_bitarray:\n",
    "                length_dict[index] = len(temp_bitarray[index])\n",
    "            for index in length_dict:\n",
    "                num_dict[length_dict[index]] += 1\n",
    "        elif task == 1: # DPC estimation\n",
    "            if key not in self.bitcube_dc:\n",
    "                return 1\n",
    "            temp_bitarray = self.bitcube_dc[key]\n",
    "            for dst in temp_bitarray:\n",
    "                for port in temp_bitarray[dst]:\n",
    "                    length_dict[port] += 1\n",
    "            for index in length_dict:\n",
    "                num_dict[length_dict[index]] += 1\n",
    "        elif task == 2: # SC estimation\n",
    "            if key not in self.invbitcube:\n",
    "                return 1\n",
    "            temp_bitarray = self.invbitcube[key]\n",
    "            for index in temp_bitarray:\n",
    "                length_dict[index] = len(temp_bitarray[index])\n",
    "            for index in length_dict:\n",
    "                num_dict[length_dict[index]] += 1\n",
    "        estimate_val = 0.0\n",
    "        for k,v in num_dict.items():\n",
    "            if k <=  self.split_num:\n",
    "                estimate_val += v / (1 - (1 - self.prob) ** k)\n",
    "            else:\n",
    "                estimate_val += v / (1 - (1 - self.prob) ** (k / self.prob))\n",
    "        return int(round(estimate_val))\n",
    "    \n",
    "    def estimate_per_service_flow(self, key):\n",
    "        '''\n",
    "            per-service flow的流标签由dst和port相结合 flow label：2 element label：1\n",
    "        '''\n",
    "        if key[0] not in self.servicebitcube:\n",
    "            return 1\n",
    "        temp_bitarray = self.servicebitcube[key[0]]\n",
    "        if key[1] not in temp_bitarray:\n",
    "            return 1\n",
    "        else:\n",
    "            return int(round(len(temp_bitarray[key[1]]) / self.prob))\n",
    "    \n",
    "    def estimate_per_source_service_flow(self, key):\n",
    "        '''\n",
    "            per-source service flow的流标签由源地址组成，元素标签由目的地址和目的端口组成 flow label：1 element label：2\n",
    "        '''\n",
    "        if key not in self.bitcube_dc:\n",
    "            return 1\n",
    "        sum_bits = 0\n",
    "        for ele in self.bitcube_dc[key]:\n",
    "            sum_bits += len(self.bitcube_dc[key][ele])\n",
    "        return int(round(sum_bits / self.prob))\n",
    "        \n",
    "    def run(self, filename):\n",
    "        f = open(filename, 'r')\n",
    "        datas = f.readlines()\n",
    "        f.close()\n",
    "        for pkt in tqdm(datas):\n",
    "            src, dst, port = pkt.split()\n",
    "            self.real_spread_set_dc[src].add(dst)\n",
    "            self.real_spread_set_dpc[src].add(port)\n",
    "            self.real_spread_set_sc[dst].add(src)\n",
    "            self.real_spread_set_service[dst + \" \" + port].add(src)\n",
    "            self.real_spread_set_sservice[src].add(dst+ \" \" + port)\n",
    "            self.sample(src, dst, port)\n",
    "        self.build_inv_table()\n",
    "        print(\"Process data has been finished.\")\n",
    "        for src in tqdm(self.real_spread_set_dc):\n",
    "            self.real_spreads_dc[src] = len(self.real_spread_set_dc[src])\n",
    "            if self.real_spreads_dc[src] >= self.T_dc:\n",
    "                self.real_hor_port.add(src)\n",
    "            self.pred_spreads_dc[src] = self.estimate(src, 0)\n",
    "        print(\"The estimation of DC has been finished.\")\n",
    "        for src in tqdm(self.real_spread_set_dpc):\n",
    "            self.real_spreads_dpc[src] = len(self.real_spread_set_dpc[src])\n",
    "            if self.real_spreads_dpc[src] >= self.T_dpc:\n",
    "                self.real_vert_port.add(src)\n",
    "            self.pred_spreads_dpc[src] = self.estimate(src, 1)\n",
    "        print(\"The estimation of DPC has been finished.\")\n",
    "        for dst in tqdm(self.real_spread_set_sc):\n",
    "            self.real_spreads_sc[dst] = len(self.real_spread_set_sc[dst])\n",
    "            if self.real_spreads_sc[dst] >= self.T_sc:\n",
    "                self.real_ddos_attackers.add(dst)\n",
    "            self.pred_spreads_sc[dst] = self.estimate(dst, 2)\n",
    "        print(\"The estimation of SC has been finished.\")\n",
    "        '''\n",
    "        self.build_service_table()\n",
    "        for key in tqdm(self.real_spread_set_service):\n",
    "            self.real_spread_service[key] = len(self.real_spread_set_service[key])\n",
    "            self.pred_spreads_service[key] = self.estimate_per_service_flow(key.split())\n",
    "        print(\"The estimation of Per-service source flow has been finished.\")\n",
    "        for key in tqdm(self.real_spread_set_sservice):\n",
    "            self.real_spread_sservice[key] = len(self.real_spread_set_sservice[key])\n",
    "            self.pred_spreads_sservice[key] = self.estimate_per_source_service_flow(key)\n",
    "        print(\"The estimation of Per-source service flow has been finished.\")\n",
    "        '''\n",
    "    \n",
    "    def draw(self, task):\n",
    "        x_log, y_log = [], []\n",
    "        if task == 0:\n",
    "            for src in self.real_spreads_dc:\n",
    "                temp_val = abs(self.real_spreads_dc[src] - self.pred_spreads_dc[src]) / self.real_spreads_dc[src]\n",
    "                self.are_dc += temp_val\n",
    "                self.dc_count += 1\n",
    "                self.are_count_dc[int(np.log10(self.real_spreads_dc[src]))] += 1\n",
    "                self.are_range_dc[int(np.log10(self.real_spreads_dc[src]))] += temp_val\n",
    "                x_log.append(self.real_spreads_dc[src])\n",
    "                y_log.append(self.pred_spreads_dc[src])\n",
    "            self.are_dc = self.are_dc / self.dc_count\n",
    "            for k in self.are_range_dc:\n",
    "                self.are_range_dc[k] = self.are_range_dc[k] / self.are_count_dc[k] if self.are_count_dc[k] != 0 else 0\n",
    "        elif task == 1:\n",
    "            for src in self.real_spreads_dpc:\n",
    "                temp_val = abs(self.real_spreads_dpc[src] - self.pred_spreads_dpc[src]) / self.real_spreads_dpc[src]\n",
    "                self.are_dpc += temp_val\n",
    "                self.dpc_count += 1\n",
    "                self.are_count_dpc[int(np.log10(self.real_spreads_dpc[src]))] += 1\n",
    "                self.are_range_dpc[int(np.log10(self.real_spreads_dpc[src]))] += temp_val\n",
    "                x_log.append(self.real_spreads_dpc[src])\n",
    "                y_log.append(self.pred_spreads_dpc[src])\n",
    "            self.are_dpc = self.are_dpc / self.dpc_count\n",
    "            for k in self.are_range_dpc:\n",
    "                self.are_range_dpc[k] = self.are_range_dpc[k] / self.are_count_dpc[k] if self.are_count_dpc[k] != 0 else 0\n",
    "        elif task == 2:\n",
    "            for dst in self.real_spreads_sc:\n",
    "                temp_val = abs(self.real_spreads_sc[dst] - self.pred_spreads_sc[dst]) / self.real_spreads_sc[dst]\n",
    "                self.are_sc += temp_val\n",
    "                self.sc_count += 1\n",
    "                self.are_count_sc[int(np.log10(self.real_spreads_sc[dst]))] += 1\n",
    "                self.are_range_sc[int(np.log10(self.real_spreads_sc[dst]))] += temp_val\n",
    "                x_log.append(self.real_spreads_sc[dst])\n",
    "                y_log.append(self.pred_spreads_sc[dst])\n",
    "            self.are_sc = self.are_sc / self.sc_count\n",
    "            for k in self.are_range_sc:\n",
    "                self.are_range_sc[k] = self.are_range_sc[k] / self.are_count_sc[k] if self.are_count_sc[k] != 0 else 0\n",
    "        elif task == 3:\n",
    "            for key in self.real_spread_service:\n",
    "                temp_val = abs(self.real_spread_service[key] - self.pred_spreads_service[key]) / self.real_spread_service[key]\n",
    "                self.are_service += temp_val\n",
    "                self.service_count += 1\n",
    "                self.are_count_service[int(np.log10(self.real_spread_service[key]))] += 1\n",
    "                self.are_range_service[int(np.log10(self.real_spread_service[key]))] += temp_val\n",
    "                x_log.append(self.real_spread_service[key])\n",
    "                y_log.append(self.pred_spreads_service[key])\n",
    "            self.are_service = self.are_service / self.service_count\n",
    "            for k in self.are_range_service:\n",
    "                self.are_range_service[k] = self.are_range_service[k] / self.are_count_service[k] if self.are_count_service[k] != 0 else 0\n",
    "        elif task == 4:\n",
    "            for key in self.real_spread_sservice:\n",
    "                temp_val = abs(self.real_spread_sservice[key] - self.pred_spreads_sservice[key]) / self.real_spread_sservice[key]\n",
    "                self.are_sservice += temp_val\n",
    "                self.sservice_count += 1\n",
    "                self.are_count_sservice[int(np.log10(self.real_spread_sservice[key]))] += 1\n",
    "                self.are_range_sservice[int(np.log10(self.real_spread_sservice[key]))] += temp_val\n",
    "                x_log.append(self.real_spread_sservice[key])\n",
    "                y_log.append(self.pred_spreads_sservice[key])\n",
    "            self.are_sservice = self.are_sservice / self.sservice_count\n",
    "            for k in self.are_range_sservice:\n",
    "                self.are_range_sservice[k] = self.are_range_sservice[k] / self.are_count_sservice[k] if self.are_count_sservice[k] != 0 else 0\n",
    "        x = y = np.arange(0, 7, 1)\n",
    "        x_log = np.log10(x_log)\n",
    "        y_log = np.log10(y_log)\n",
    "        plt.plot(x_log, y_log, '*')\n",
    "        plt.plot(x, y)\n",
    "        plt.xlabel(\"Real Spreads\")\n",
    "        plt.ylabel(\"Estimated Spreads\")\n",
    "        plt.xticks(x, [\"$10^{}$\".format(i) for i in range(7)])\n",
    "        plt.yticks(y, [\"$10^{}$\".format(i) for i in range(7)])\n",
    "        plt.title(plot_titles[task])\n",
    "        plt.savefig(plot_titles[task] + \".jpg\")\n",
    "        plt.show()\n",
    "    \n",
    "    def show(self):\n",
    "        print(\"ARE of DC\")\n",
    "        print(self.are_dc)\n",
    "        print(self.are_range_dc)\n",
    "        print(\"ARE of DPC\")\n",
    "        print(self.are_dpc)\n",
    "        print(self.are_range_dpc)\n",
    "        print(\"ARE of SC\")\n",
    "        print(self.are_sc)\n",
    "        print(self.are_range_sc)\n",
    "        print(\"ARE of Per-service Source Flow\")\n",
    "        print(self.are_service)\n",
    "        print(self.are_range_service)\n",
    "        print(\"ARE of Per-source Service Flow\")\n",
    "        print(self.are_sservice)\n",
    "        print(self.are_range_sservice)"
   ]
  },
  {
   "cell_type": "code",
   "execution_count": 4,
   "metadata": {
    "ExecuteTime": {
     "end_time": "2024-05-14T06:49:53.821868Z",
     "start_time": "2024-05-14T06:49:53.817744Z"
    }
   },
   "outputs": [
    {
     "data": {
      "text/plain": [
       "'\\nsum_dc = 0\\nsum_dpc = 0\\nsum_sc = 0\\nfor key in tqdm(mime.real_spreads_dc):\\n    sum_dc += mime.real_spreads_dc[key]\\nfor key in tqdm(mime.real_spreads_dpc):\\n    sum_dpc += mime.real_spreads_dpc[key]\\nfor key in tqdm(mime.real_spreads_sc):\\n    sum_sc += mime.real_spreads_sc[key]\\nT_dc = sum_dc * 0.01\\nT_dpc = sum_dpc * 0.01\\nT_sc = sum_sc * 0.01\\nprint(T_dc)\\nprint(T_dpc)\\nprint(T_sc)\\nfilename = \"../experiments/SuperHost/Supercube/\" + addition_dir + \"/ddos.txt\"\\n        f = open(filename, \\'w\\')\\n        f.close()\\n'"
      ]
     },
     "execution_count": 4,
     "metadata": {},
     "output_type": "execute_result"
    }
   ],
   "source": [
    "'''\n",
    "sum_dc = 0\n",
    "sum_dpc = 0\n",
    "sum_sc = 0\n",
    "for key in tqdm(mime.real_spreads_dc):\n",
    "    sum_dc += mime.real_spreads_dc[key]\n",
    "for key in tqdm(mime.real_spreads_dpc):\n",
    "    sum_dpc += mime.real_spreads_dpc[key]\n",
    "for key in tqdm(mime.real_spreads_sc):\n",
    "    sum_sc += mime.real_spreads_sc[key]\n",
    "T_dc = sum_dc * 0.01\n",
    "T_dpc = sum_dpc * 0.01\n",
    "T_sc = sum_sc * 0.01\n",
    "print(T_dc)\n",
    "print(T_dpc)\n",
    "print(T_sc)\n",
    "filename = \"../experiments/SuperHost/Supercube/\" + addition_dir + \"/ddos.txt\"\n",
    "        f = open(filename, 'w')\n",
    "        f.close()\n",
    "'''"
   ]
  },
  {
   "cell_type": "code",
   "execution_count": 5,
   "metadata": {
    "ExecuteTime": {
     "end_time": "2024-05-14T06:49:53.825950Z",
     "start_time": "2024-05-14T06:49:53.823194Z"
    }
   },
   "outputs": [],
   "source": [
    "import math\n",
    "def getOptParams(N, p):\n",
    "    return int(round(-1.0 * N / math.log(p)))\n",
    "\n",
    "def getOptSampling(N, m):\n",
    "    bits = m * 8 * 1024\n",
    "    return np.exp(- N / bits)"
   ]
  },
  {
   "cell_type": "code",
   "execution_count": 6,
   "metadata": {
    "ExecuteTime": {
     "end_time": "2024-05-14T06:54:35.522448Z",
     "start_time": "2024-05-14T06:49:53.827152Z"
    }
   },
   "outputs": [
    {
     "name": "stderr",
     "output_type": "stream",
     "text": [
      "100%|██████████| 2431002/2431002 [00:28<00:00, 84535.77it/s] \n",
      "  6%|▌         | 19363/336537 [00:00<00:01, 193629.72it/s]"
     ]
    },
    {
     "name": "stdout",
     "output_type": "stream",
     "text": [
      "Process data has been finished.\n"
     ]
    },
    {
     "name": "stderr",
     "output_type": "stream",
     "text": [
      "100%|██████████| 336537/336537 [00:00<00:00, 430011.87it/s]\n",
      " 14%|█▍        | 48022/336537 [00:00<00:01, 158298.52it/s]"
     ]
    },
    {
     "name": "stdout",
     "output_type": "stream",
     "text": [
      "The estimation of DC has been finished.\n"
     ]
    },
    {
     "name": "stderr",
     "output_type": "stream",
     "text": [
      "100%|██████████| 336537/336537 [00:00<00:00, 417762.88it/s]\n",
      " 10%|▉         | 71021/744358 [00:00<00:02, 333063.77it/s]"
     ]
    },
    {
     "name": "stdout",
     "output_type": "stream",
     "text": [
      "The estimation of DPC has been finished.\n"
     ]
    },
    {
     "name": "stderr",
     "output_type": "stream",
     "text": [
      "100%|██████████| 744358/744358 [00:01<00:00, 415497.35it/s]\n"
     ]
    },
    {
     "name": "stdout",
     "output_type": "stream",
     "text": [
      "The estimation of SC has been finished.\n",
      "水平扫描攻击：准确率：0.63， 召回率：0.89，F1：0.74.\n",
      "垂直扫描攻击：准确率：0.78， 召回率：0.82，F1：0.80.\n",
      "DDoS攻击：准确率：0.62， 召回率：0.85， F1：0.72.\n"
     ]
    },
    {
     "name": "stderr",
     "output_type": "stream",
     "text": [
      "100%|██████████| 2431002/2431002 [00:39<00:00, 61052.20it/s]\n",
      "  0%|          | 53/336537 [00:00<10:48, 518.76it/s]"
     ]
    },
    {
     "name": "stdout",
     "output_type": "stream",
     "text": [
      "Process data has been finished.\n"
     ]
    },
    {
     "name": "stderr",
     "output_type": "stream",
     "text": [
      "100%|██████████| 336537/336537 [00:01<00:00, 226084.40it/s]\n",
      "  0%|          | 228/336537 [00:00<12:35, 444.88it/s]"
     ]
    },
    {
     "name": "stdout",
     "output_type": "stream",
     "text": [
      "The estimation of DC has been finished.\n"
     ]
    },
    {
     "name": "stderr",
     "output_type": "stream",
     "text": [
      "100%|██████████| 336537/336537 [00:01<00:00, 195690.50it/s]\n",
      "  1%|          | 8561/744358 [00:00<00:08, 85607.84it/s]"
     ]
    },
    {
     "name": "stdout",
     "output_type": "stream",
     "text": [
      "The estimation of DPC has been finished.\n"
     ]
    },
    {
     "name": "stderr",
     "output_type": "stream",
     "text": [
      "100%|██████████| 744358/744358 [00:02<00:00, 249632.45it/s]\n"
     ]
    },
    {
     "name": "stdout",
     "output_type": "stream",
     "text": [
      "The estimation of SC has been finished.\n",
      "水平扫描攻击：准确率：0.91， 召回率：0.96，F1：0.93.\n",
      "垂直扫描攻击：准确率：0.93， 召回率：0.94，F1：0.94.\n",
      "DDoS攻击：准确率：0.89， 召回率：0.96， F1：0.93.\n"
     ]
    },
    {
     "name": "stderr",
     "output_type": "stream",
     "text": [
      "100%|██████████| 2431002/2431002 [00:49<00:00, 49510.44it/s]\n",
      "  0%|          | 35/336537 [00:00<19:58, 280.84it/s]"
     ]
    },
    {
     "name": "stdout",
     "output_type": "stream",
     "text": [
      "Process data has been finished.\n"
     ]
    },
    {
     "name": "stderr",
     "output_type": "stream",
     "text": [
      "100%|██████████| 336537/336537 [00:01<00:00, 168900.40it/s]\n",
      "  0%|          | 30/336537 [00:00<19:02, 294.60it/s]"
     ]
    },
    {
     "name": "stdout",
     "output_type": "stream",
     "text": [
      "The estimation of DC has been finished.\n"
     ]
    },
    {
     "name": "stderr",
     "output_type": "stream",
     "text": [
      "100%|██████████| 336537/336537 [00:02<00:00, 145975.72it/s]\n",
      "  2%|▏         | 17335/744358 [00:00<00:11, 61963.37it/s]"
     ]
    },
    {
     "name": "stdout",
     "output_type": "stream",
     "text": [
      "The estimation of DPC has been finished.\n"
     ]
    },
    {
     "name": "stderr",
     "output_type": "stream",
     "text": [
      "100%|██████████| 744358/744358 [00:03<00:00, 197380.85it/s]\n"
     ]
    },
    {
     "name": "stdout",
     "output_type": "stream",
     "text": [
      "The estimation of SC has been finished.\n",
      "水平扫描攻击：准确率：0.95， 召回率：0.97，F1：0.96.\n",
      "垂直扫描攻击：准确率：0.95， 召回率：0.96，F1：0.96.\n",
      "DDoS攻击：准确率：0.96， 召回率：0.98， F1：0.97.\n"
     ]
    },
    {
     "name": "stderr",
     "output_type": "stream",
     "text": [
      "100%|██████████| 2431002/2431002 [00:51<00:00, 47006.15it/s]\n",
      "  0%|          | 32/336537 [00:00<19:22, 289.52it/s]"
     ]
    },
    {
     "name": "stdout",
     "output_type": "stream",
     "text": [
      "Process data has been finished.\n"
     ]
    },
    {
     "name": "stderr",
     "output_type": "stream",
     "text": [
      "100%|██████████| 336537/336537 [00:02<00:00, 163813.42it/s]\n",
      "  0%|          | 27/336537 [00:00<23:42, 236.48it/s]"
     ]
    },
    {
     "name": "stdout",
     "output_type": "stream",
     "text": [
      "The estimation of DC has been finished.\n"
     ]
    },
    {
     "name": "stderr",
     "output_type": "stream",
     "text": [
      "100%|██████████| 336537/336537 [00:02<00:00, 138208.14it/s]\n",
      "  1%|          | 4011/744358 [00:00<00:18, 40106.79it/s]"
     ]
    },
    {
     "name": "stdout",
     "output_type": "stream",
     "text": [
      "The estimation of DPC has been finished.\n"
     ]
    },
    {
     "name": "stderr",
     "output_type": "stream",
     "text": [
      "100%|██████████| 744358/744358 [00:03<00:00, 194377.68it/s]\n"
     ]
    },
    {
     "name": "stdout",
     "output_type": "stream",
     "text": [
      "The estimation of SC has been finished.\n",
      "水平扫描攻击：准确率：0.97， 召回率：0.98，F1：0.97.\n",
      "垂直扫描攻击：准确率：0.96， 召回率：0.97，F1：0.96.\n",
      "DDoS攻击：准确率：0.96， 召回率：0.98， F1：0.97.\n"
     ]
    },
    {
     "name": "stderr",
     "output_type": "stream",
     "text": [
      "100%|██████████| 2431002/2431002 [00:52<00:00, 46173.60it/s]\n",
      "  0%|          | 27/336537 [00:00<21:04, 266.04it/s]"
     ]
    },
    {
     "name": "stdout",
     "output_type": "stream",
     "text": [
      "Process data has been finished.\n"
     ]
    },
    {
     "name": "stderr",
     "output_type": "stream",
     "text": [
      "100%|██████████| 336537/336537 [00:02<00:00, 154701.54it/s]\n",
      "  0%|          | 26/336537 [00:00<23:39, 237.03it/s]"
     ]
    },
    {
     "name": "stdout",
     "output_type": "stream",
     "text": [
      "The estimation of DC has been finished.\n"
     ]
    },
    {
     "name": "stderr",
     "output_type": "stream",
     "text": [
      "100%|██████████| 336537/336537 [00:02<00:00, 132240.50it/s]\n",
      "  2%|▏         | 13763/744358 [00:00<00:17, 41950.39it/s]"
     ]
    },
    {
     "name": "stdout",
     "output_type": "stream",
     "text": [
      "The estimation of DPC has been finished.\n"
     ]
    },
    {
     "name": "stderr",
     "output_type": "stream",
     "text": [
      "100%|██████████| 744358/744358 [00:04<00:00, 177433.03it/s]\n"
     ]
    },
    {
     "name": "stdout",
     "output_type": "stream",
     "text": [
      "The estimation of SC has been finished.\n",
      "水平扫描攻击：准确率：0.97， 召回率：0.98，F1：0.98.\n",
      "垂直扫描攻击：准确率：0.97， 召回率：0.97，F1：0.97.\n",
      "DDoS攻击：准确率：0.96， 召回率：0.98， F1：0.97.\n"
     ]
    }
   ],
   "source": [
    "N = 2431002 #10542501 #2431002\n",
    "filename = \"../c++codes/seconds/00.txt\"\n",
    "memory_lst = [x for x in [100, 300, 500, 700, 900]]\n",
    "filename1 = \"../experiments/SuperHost/Supercube/\" + addition_dir + \"/horizental_100.txt\"\n",
    "filename2 = \"../experiments/SuperHost/Supercube/\" + addition_dir + \"/vertical_100.txt\"\n",
    "filename3 = \"../experiments/SuperHost/Supercube/\" + addition_dir + \"/ddos_100.txt\"\n",
    "f1 = open(filename1, 'w')\n",
    "f2 = open(filename2, 'w')\n",
    "f3 = open(filename3, 'w')\n",
    "for m in memory_lst:\n",
    "    p = getOptSampling(N, m)\n",
    "    mime = MIME(p, m * 1024 * 8)\n",
    "    mime.run(filename)\n",
    "    precision, recall, F1 = mime.show_sdc()\n",
    "    f1.write(\"Memory is {}, P = {:.2f}, R = {:.2f}, F1 = {:.2f}.\\n\".format(m, precision, recall, F1))\n",
    "    precision, recall, F1 = mime.show_sdpc()\n",
    "    f2.write(\"Memory is {}, P = {:.2f}, R = {:.2f}, F1 = {:.2f}.\\n\".format(m, precision, recall, F1))\n",
    "    precision, recall, F1 = mime.show_ssc()\n",
    "    f3.write(\"Memory is {}, P = {:.2f}, R = {:.2f}, F1 = {:.2f}.\\n\".format(m, precision, recall, F1))\n",
    "f1.close()\n",
    "f2.close()\n",
    "f3.close()"
   ]
  },
  {
   "cell_type": "code",
   "execution_count": 7,
   "metadata": {
    "ExecuteTime": {
     "end_time": "2024-05-14T06:54:36.345307Z",
     "start_time": "2024-05-14T06:54:35.524082Z"
    }
   },
   "outputs": [
    {
     "name": "stderr",
     "output_type": "stream",
     "text": [
      "100%|██████████| 336537/336537 [00:00<00:00, 1693812.31it/s]\n",
      "100%|██████████| 336537/336537 [00:00<00:00, 1800555.76it/s]\n",
      "100%|██████████| 744358/744358 [00:00<00:00, 1752976.68it/s]"
     ]
    },
    {
     "name": "stdout",
     "output_type": "stream",
     "text": [
      "5279.127 1515768 1759709\n"
     ]
    },
    {
     "name": "stderr",
     "output_type": "stream",
     "text": [
      "\n"
     ]
    }
   ],
   "source": [
    "sum_dc, sum_dpc, sum_sc = 0, 0, 0\n",
    "for key in tqdm(mime.real_spreads_dc):\n",
    "    sum_dc += mime.real_spreads_dc[key]\n",
    "for key in tqdm(mime.real_spreads_dpc):\n",
    "    sum_dpc += mime.real_spreads_dpc[key]\n",
    "for key in tqdm(mime.real_spreads_sc):\n",
    "    sum_sc += mime.real_spreads_sc[key]\n",
    "print((sum_dc * 0.001) * 3, sum_dpc, sum_sc)"
   ]
  },
  {
   "cell_type": "code",
   "execution_count": 8,
   "metadata": {
    "ExecuteTime": {
     "end_time": "2024-05-14T06:54:36.351293Z",
     "start_time": "2024-05-14T06:54:36.346631Z"
    }
   },
   "outputs": [
    {
     "data": {
      "text/plain": [
       "'\\nN = 2431002 #10542501\\nm = 100\\np = getOptSampling(N, m)\\nprint(m, \"KB.\")\\nmime = MIME(p, m * 1024 * 8)\\nmime.run(\"../c++codes/seconds/00.txt\")\\n'"
      ]
     },
     "execution_count": 8,
     "metadata": {},
     "output_type": "execute_result"
    }
   ],
   "source": [
    "'''\n",
    "N = 2431002 #10542501\n",
    "m = 100\n",
    "p = getOptSampling(N, m)\n",
    "print(m, \"KB.\")\n",
    "mime = MIME(p, m * 1024 * 8)\n",
    "mime.run(\"../c++codes/seconds/00.txt\")\n",
    "'''"
   ]
  }
 ],
 "metadata": {
  "kernelspec": {
   "display_name": "Python 3",
   "language": "python",
   "name": "python3"
  },
  "language_info": {
   "codemirror_mode": {
    "name": "ipython",
    "version": 3
   },
   "file_extension": ".py",
   "mimetype": "text/x-python",
   "name": "python",
   "nbconvert_exporter": "python",
   "pygments_lexer": "ipython3",
   "version": "3.7.4"
  },
  "latex_envs": {
   "LaTeX_envs_menu_present": true,
   "autoclose": false,
   "autocomplete": true,
   "bibliofile": "biblio.bib",
   "cite_by": "apalike",
   "current_citInitial": 1,
   "eqLabelWithNumbers": true,
   "eqNumInitial": 1,
   "hotkeys": {
    "equation": "Ctrl-E",
    "itemize": "Ctrl-I"
   },
   "labels_anchors": false,
   "latex_user_defs": false,
   "report_style_numbering": false,
   "user_envs_cfg": false
  },
  "toc": {
   "base_numbering": 1,
   "nav_menu": {},
   "number_sections": true,
   "sideBar": true,
   "skip_h1_title": false,
   "title_cell": "Table of Contents",
   "title_sidebar": "Contents",
   "toc_cell": false,
   "toc_position": {},
   "toc_section_display": true,
   "toc_window_display": false
  }
 },
 "nbformat": 4,
 "nbformat_minor": 2
}
