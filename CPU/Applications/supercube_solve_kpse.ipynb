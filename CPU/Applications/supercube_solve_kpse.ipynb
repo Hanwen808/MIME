{
 "cells": [
  {
   "cell_type": "code",
   "execution_count": 1,
   "metadata": {
    "ExecuteTime": {
     "end_time": "2024-07-12T11:20:26.873371Z",
     "start_time": "2024-07-12T11:20:26.580073Z"
    }
   },
   "outputs": [],
   "source": [
    "import numpy as np\n",
    "from tqdm import tqdm\n",
    "from collections import defaultdict\n",
    "import matplotlib.pyplot as plt\n",
    "import mmh3\n",
    "import os\n",
    "import pickle\n",
    "import math\n",
    "def combinations(n, k):\n",
    "    def backtrack(start, combo):\n",
    "        if len(combo) == k:\n",
    "            result.append(combo[:])\n",
    "            return\n",
    "        for i in range(start, n + 1):\n",
    "            combo.append(i)\n",
    "            backtrack(i + 1, combo)\n",
    "            combo.pop()\n",
    "\n",
    "    result = []\n",
    "    backtrack(1, [])\n",
    "    return result\n",
    "\n",
    "def combination(n, k):\n",
    "    if k == 0 or k == n:\n",
    "        return 1\n",
    "    else:\n",
    "        return combination(n - 1, k - 1) + combination(n - 1, k)"
   ]
  },
  {
   "cell_type": "code",
   "execution_count": 2,
   "metadata": {
    "ExecuteTime": {
     "end_time": "2024-07-12T11:20:26.924063Z",
     "start_time": "2024-07-12T11:20:26.874921Z"
    }
   },
   "outputs": [],
   "source": [
    "class KSuperCube:\n",
    "    \n",
    "    def __init__(self, prob, t, k):\n",
    "        self.prob = prob\n",
    "        self.t = t\n",
    "        self.k = k\n",
    "        self.real_hash_table_table_dc = {}\n",
    "        self.real_hash_table_table_dpc = {}\n",
    "        self.real_hash_table_table_sc = {}\n",
    "        self.pred_hash_table_table_dc = {}\n",
    "        self.pred_hash_table_table_dpc = {}\n",
    "        self.pred_hash_table_table_sc = {}\n",
    "        self.total_spreads_dc = {}\n",
    "        self.total_spreads_dpc = {}\n",
    "        self.total_spreads_sc = {}\n",
    "        for i in range(1, t + 1):\n",
    "            self.real_hash_table_table_dc[i] = None\n",
    "            self.real_hash_table_table_dpc[i] = None\n",
    "            self.real_hash_table_table_sc[i] = None\n",
    "            self.pred_hash_table_table_dc[i] = None\n",
    "            self.pred_hash_table_table_dpc[i] = None\n",
    "            self.pred_hash_table_table_sc[i] = None\n",
    "        self.real_spreads_dc = defaultdict(int)\n",
    "        self.real_spreads_dpc = defaultdict(int)\n",
    "        self.real_spreads_sc = defaultdict(int)\n",
    "        self.pred_spreads_dc = defaultdict(int)\n",
    "        self.pred_spreads_dpc = defaultdict(int)\n",
    "        self.pred_spreads_sc = defaultdict(int)\n",
    "        self.are_dc = 0.0\n",
    "        self.are_dpc = 0.0\n",
    "        self.are_sc = 0.0\n",
    "        self.count_dc = 0\n",
    "        self.count_dpc = 0\n",
    "        self.count_sc = 0\n",
    "        self.range_are_dc = {}\n",
    "        self.range_are_dpc = {}\n",
    "        self.range_are_sc = {}\n",
    "        self.range_count_dc = {}\n",
    "        self.range_count_dpc = {}\n",
    "        self.range_count_sc = {}\n",
    "        for i in range(7):\n",
    "            self.range_are_dc[i] = 0.0\n",
    "            self.range_are_dpc[i] = 0.0\n",
    "            self.range_are_sc[i] = 0.0\n",
    "            self.range_count_dc[i] = 0\n",
    "            self.range_count_dpc[i] = 0\n",
    "            self.range_count_sc[i] = 0\n",
    "    \n",
    "    def init_data(self, dir_dc, dir_dpc, dir_sc, dir_est):\n",
    "        for idx, real_file in enumerate(['00.pkl', '01.pkl', '02.pkl']):\n",
    "            if real_file.find(\".pkl\") == -1:\n",
    "                continue\n",
    "            f = open(dir_dc + real_file, 'rb')\n",
    "            print(dir_dc + real_file)\n",
    "            hash_table = pickle.load(f)\n",
    "            self.real_hash_table_table_dc[idx + 1] = hash_table\n",
    "            f.close()\n",
    "        print(\"[Message] DC real dataset has been loaded.\")\n",
    "        for idx, real_file in enumerate(['00.pkl', '01.pkl', '02.pkl']):\n",
    "            if real_file.find(\".pkl\") == -1:\n",
    "                continue\n",
    "            f = open(dir_dpc + real_file, 'rb')\n",
    "            print(dir_dpc + real_file)\n",
    "            hash_table = pickle.load(f)\n",
    "            self.real_hash_table_table_dpc[idx + 1] = hash_table\n",
    "            f.close()\n",
    "        print(\"[Message] DPC real dataset has been loaded.\")\n",
    "        for idx, real_file in enumerate(['00.pkl', '01.pkl', '02.pkl']):\n",
    "            if real_file.find(\".pkl\") == -1:\n",
    "                continue\n",
    "            f = open(dir_sc + real_file, 'rb')\n",
    "            print(dir_sc + real_file)\n",
    "            hash_table = pickle.load(f)\n",
    "            self.real_hash_table_table_sc[idx + 1] = hash_table\n",
    "            f.close()\n",
    "        print(\"[Message] SC real dataset has been loaded.\")\n",
    "        for idx, pred_file in enumerate([\"00.pkl\", '01.pkl', '02.pkl']):\n",
    "            if pred_file.find(\".pkl\") == -1:\n",
    "                continue\n",
    "            f = open(dir_est + pred_file, 'rb')\n",
    "            print(dir_est + pred_file)\n",
    "            hash_table = pickle.load(f)\n",
    "            self.pred_hash_table_table_dc[idx + 1] = hash_table\n",
    "            self.pred_hash_table_table_dpc[idx + 1] = {}\n",
    "            self.pred_hash_table_table_sc[idx + 1] = {}\n",
    "            for key in tqdm(hash_table):\n",
    "                self.pred_hash_table_table_dpc[idx + 1][key] = {}\n",
    "                for dst in hash_table[key]:\n",
    "                    if dst not in self.pred_hash_table_table_sc[idx + 1]:\n",
    "                        self.pred_hash_table_table_sc[idx + 1][dst] = {key:self.pred_hash_table_table_dc[idx + 1][key][dst]}\n",
    "                    else:\n",
    "                        if key not in self.pred_hash_table_table_sc[idx + 1][dst]:\n",
    "                            self.pred_hash_table_table_sc[idx + 1][dst][key] = self.pred_hash_table_table_dc[idx + 1][key][dst]\n",
    "                    for port in hash_table[key][dst]:\n",
    "                        if port not in self.pred_hash_table_table_dpc[idx + 1][key]:\n",
    "                            self.pred_hash_table_table_dpc[idx + 1][key][port] = {dst}\n",
    "                        else:\n",
    "                            self.pred_hash_table_table_dpc[idx + 1][key][port].add(dst)\n",
    "            f.close()\n",
    "        print(\"[Message] Dataset has been initted.\")\n",
    "        for idx in tqdm(range(self.t)):\n",
    "            table = self.real_hash_table_table_dc[idx + 1]\n",
    "            for key in table:\n",
    "                if key not in self.total_spreads_dc:\n",
    "                    self.total_spreads_dc[key] = {}\n",
    "                    for ele in table[key]:\n",
    "                        self.total_spreads_dc[key][ele] = 1\n",
    "                else:\n",
    "                    for ele in table[key]:\n",
    "                        if ele in self.total_spreads_dc[key]:\n",
    "                            self.total_spreads_dc[key][ele] += 1\n",
    "                        else:\n",
    "                            self.total_spreads_dc[key][ele] = 1\n",
    "        for key in tqdm(self.total_spreads_dc):\n",
    "            count_ = 0\n",
    "            for ele in self.total_spreads_dc[key]:\n",
    "                if self.total_spreads_dc[key][ele] >= self.k:\n",
    "                    count_ += 1\n",
    "            self.real_spreads_dc[key] = count_\n",
    "        print(\"[Message] DC real spreads have been finished.\")\n",
    "        for idx in tqdm(range(self.t)):\n",
    "            table = self.real_hash_table_table_dpc[idx + 1]\n",
    "            for key in table:\n",
    "                if key not in self.total_spreads_dpc:\n",
    "                    self.total_spreads_dpc[key] = {}\n",
    "                    for ele in table[key]:\n",
    "                        self.total_spreads_dpc[key][ele] = 1\n",
    "                else:\n",
    "                    for ele in table[key]:\n",
    "                        if ele in self.total_spreads_dpc[key]:\n",
    "                            self.total_spreads_dpc[key][ele] += 1\n",
    "                        else:\n",
    "                            self.total_spreads_dpc[key][ele] = 1\n",
    "        for key in tqdm(self.total_spreads_dpc):\n",
    "            count_ = 0\n",
    "            for ele in self.total_spreads_dpc[key]:\n",
    "                if self.total_spreads_dpc[key][ele] >= self.k:\n",
    "                    count_ += 1\n",
    "            self.real_spreads_dpc[key] = count_\n",
    "        print(\"[Message] DPC real spreads have been finished.\")\n",
    "        for idx in tqdm(range(self.t)):\n",
    "            table = self.real_hash_table_table_sc[idx + 1]\n",
    "            for key in table:\n",
    "                if key not in self.total_spreads_sc:\n",
    "                    self.total_spreads_sc[key] = {}\n",
    "                    for ele in table[key]:\n",
    "                        self.total_spreads_sc[key][ele] = 1\n",
    "                else:\n",
    "                    for ele in table[key]:\n",
    "                        if ele in self.total_spreads_sc[key]:\n",
    "                            self.total_spreads_sc[key][ele] += 1\n",
    "                        else:\n",
    "                            self.total_spreads_sc[key][ele] = 1\n",
    "        for key in tqdm(self.total_spreads_sc):\n",
    "            count_ = 0\n",
    "            for ele in self.total_spreads_sc[key]:\n",
    "                if self.total_spreads_sc[key][ele] >= self.k:\n",
    "                    count_ += 1\n",
    "            self.real_spreads_sc[key] = count_\n",
    "        print(\"[Message] SC real spreads have been finished.\")\n",
    "    \n",
    "    def estimate_dc(self, key):\n",
    "        est = 0\n",
    "        nfjt = {}\n",
    "        for j in range(self.t, self.k - 1, -1):\n",
    "            sum_j = 0\n",
    "            solutions = combinations(self.t, j)\n",
    "            for sol in solutions:\n",
    "                Nfj = None\n",
    "                for kk in range(j):\n",
    "                    if kk == 0:\n",
    "                        if key in self.pred_hash_table_table_dc[sol[kk]]:\n",
    "                            Nfj = set(self.pred_hash_table_table_dc[sol[kk]][key].keys()).copy()\n",
    "                        else:\n",
    "                            Nfj = set([])\n",
    "                    else:\n",
    "                        if key in self.pred_hash_table_table_dc[sol[kk]]:\n",
    "                            Nfj = Nfj.intersection(set(self.pred_hash_table_table_dc[sol[kk]][key].keys()))\n",
    "                        else:\n",
    "                            Nfj = set([])\n",
    "                for ke in list(Nfj):\n",
    "                    prod_p = 1\n",
    "                    for s in sol:\n",
    "                        v = self.pred_hash_table_table_dc[s][key][ke]\n",
    "                        prod_p *= 1 - (1 - self.prob) ** len(v) if len(v) < math.ceil(1 / self.prob) else 1 - (1 - self.prob) ** (len(v) / self.prob)\n",
    "                    sum_j += 1 / prod_p\n",
    "            if j == self.t:\n",
    "                nfjt[j] = sum_j\n",
    "            else:\n",
    "                temp_sum = 0\n",
    "                for l in range(j + 1, self.t + 1):\n",
    "                    temp_sum += combination(l, j) * nfjt[l]\n",
    "                nfjt[j] = sum_j - temp_sum\n",
    "        for l in range(self.k, self.t + 1):\n",
    "            est += nfjt[l]\n",
    "        return max(est,1)\n",
    "    \n",
    "    def estimate_dpc(self, key):\n",
    "        est = 0\n",
    "        nfjt = {}\n",
    "        for j in range(self.t, self.k - 1, -1):\n",
    "            sum_j = 0\n",
    "            solutions = combinations(self.t, j)\n",
    "            for sol in solutions:\n",
    "                Nfj = None\n",
    "                for kk in range(j):\n",
    "                    if kk == 0:\n",
    "                        if key in self.pred_hash_table_table_dpc[sol[kk]]:\n",
    "                            Nfj = set(self.pred_hash_table_table_dpc[sol[kk]][key].keys()).copy()\n",
    "                        else:\n",
    "                            Nfj = set([])\n",
    "                    else:\n",
    "                        if key in self.pred_hash_table_table_dpc[sol[kk]]:\n",
    "                            Nfj = Nfj.intersection(set(self.pred_hash_table_table_dpc[sol[kk]][key].keys()))\n",
    "                        else:\n",
    "                            Nfj = set([])\n",
    "                for ke in list(Nfj):\n",
    "                    prod_p = 1\n",
    "                    for s in sol:\n",
    "                        v = self.pred_hash_table_table_dpc[s][key][ke]\n",
    "                        prod_p *= 1 - (1 - self.prob) ** len(v) if len(v) < math.ceil(1 / self.prob) else 1 - (1 - self.prob) ** (len(v) / self.prob)\n",
    "                    sum_j += 1 / prod_p\n",
    "            if j == self.t:\n",
    "                nfjt[j] = sum_j\n",
    "            else:\n",
    "                temp_sum = 0\n",
    "                for l in range(j + 1, self.t + 1):\n",
    "                    temp_sum += combination(l, j) * nfjt[l]\n",
    "                nfjt[j] = sum_j - temp_sum\n",
    "        for l in range(self.k, self.t + 1):\n",
    "            est += nfjt[l]\n",
    "        return max(est,1)\n",
    "    \n",
    "    def estimate_sc(self, key):\n",
    "        est = 0\n",
    "        nfjt = {}\n",
    "        for j in range(self.t, self.k - 1, -1):\n",
    "            sum_j = 0\n",
    "            solutions = combinations(self.t, j)\n",
    "            for sol in solutions:\n",
    "                Nfj = None\n",
    "                for kk in range(j):\n",
    "                    if kk == 0:\n",
    "                        if key in self.pred_hash_table_table_sc[sol[kk]]:\n",
    "                            Nfj = set(self.pred_hash_table_table_sc[sol[kk]][key].keys()).copy()\n",
    "                        else:\n",
    "                            Nfj = set([])\n",
    "                    else:\n",
    "                        if key in self.pred_hash_table_table_sc[sol[kk]]:\n",
    "                            Nfj = Nfj.intersection(set(self.pred_hash_table_table_sc[sol[kk]][key].keys()))\n",
    "                        else:\n",
    "                            Nfj = set([])\n",
    "                for ke in list(Nfj):\n",
    "                    prod_p = 1\n",
    "                    for s in sol:\n",
    "                        v = self.pred_hash_table_table_sc[s][key][ke]\n",
    "                        prod_p *= 1 - (1 - self.prob) ** len(v) if len(v) < math.ceil(1 / self.prob) else 1 - (1 - self.prob) ** (len(v) / self.prob)\n",
    "                    sum_j += 1 / prod_p\n",
    "            if j == self.t:\n",
    "                nfjt[j] = sum_j\n",
    "            else:\n",
    "                temp_sum = 0\n",
    "                for l in range(j + 1, self.t + 1):\n",
    "                    temp_sum += combination(l, j) * nfjt[l]\n",
    "                nfjt[j] = sum_j - temp_sum\n",
    "        for l in range(self.k, self.t + 1):\n",
    "            est += nfjt[l]\n",
    "        return max(est,1)\n",
    "    \n",
    "    def run(self):\n",
    "        for key in tqdm(self.real_spreads_dc):\n",
    "            real_dc = self.real_spreads_dc[key]\n",
    "            if real_dc != 0:\n",
    "                pred_dc = self.estimate_dc(key)\n",
    "                range_dc_ = int(np.log10(real_dc)) if real_dc != 0 else 0\n",
    "                self.range_count_dc[range_dc_] += 1            \n",
    "                self.range_are_dc[range_dc_] += abs(real_dc - pred_dc) / real_dc if real_dc != 0 else 0\n",
    "                self.pred_spreads_dc[key] = pred_dc\n",
    "                self.count_dc += 1\n",
    "                self.are_dc += abs(real_dc - pred_dc) / real_dc if real_dc != 0 else 0\n",
    "            real_dpc = self.real_spreads_dpc[key]\n",
    "            if real_dpc != 0:\n",
    "                pred_dpc = self.estimate_dpc(key)\n",
    "                range_dpc_ = int(np.log10(real_dpc)) if real_dpc != 0 else 0\n",
    "                self.range_count_dpc[range_dpc_] += 1\n",
    "                self.range_are_dpc[range_dpc_] += abs(real_dpc - pred_dpc) / real_dpc if real_dpc != 0 else 0\n",
    "                self.pred_spreads_dpc[key] = pred_dpc\n",
    "                self.count_dpc += 1\n",
    "                self.are_dpc += abs(real_dpc - pred_dpc) / real_dpc if real_dpc != 0 else 0\n",
    "        for key in tqdm(self.real_spreads_sc):\n",
    "            real_sc = self.real_spreads_sc[key]\n",
    "            if real_sc != 0:\n",
    "                pred_sc = self.estimate_sc(key)\n",
    "                range_sc_ = int(np.log10(real_sc)) if real_sc != 0 else 0\n",
    "                self.range_count_sc[range_sc_] += 1\n",
    "                self.range_are_sc[range_sc_] += abs(real_sc - pred_sc) / real_sc if real_sc != 0 else 0\n",
    "                self.count_sc += 1\n",
    "                self.are_sc += abs(real_sc - pred_sc) / real_sc if real_sc != 0 else 0\n",
    "                self.pred_spreads_sc[key] = pred_sc\n",
    "        print(\"[Message] K-dc, K-dpc and K-sc persistent spreads estimation has been finished.\")\n",
    "        for idx in self.range_are_dc:\n",
    "            self.range_are_dc[idx] = self.range_are_dc[idx] / self.range_count_dc[idx] if self.range_count_dc[idx] != 0 else 0\n",
    "            self.range_are_dpc[idx] = self.range_are_dpc[idx] / self.range_count_dpc[idx] if self.range_count_dpc[idx] != 0 else 0\n",
    "            self.range_are_sc[idx] = self.range_are_sc[idx] / self.range_count_sc[idx] if self.range_count_sc[idx] != 0 else 0\n",
    "        self.are_dc = self.are_dc / self.count_dc\n",
    "        self.are_dpc = self.are_dpc / self.count_dpc\n",
    "        self.are_sc = self.are_sc / self.count_sc\n",
    "    \n",
    "    def draw_dc(self):\n",
    "        x = np.arange(0, 7, 1)\n",
    "        x_log = []\n",
    "        y_log = []\n",
    "        for key in tqdm(self.pred_spreads_dc):\n",
    "            x_log.append(self.real_spreads_dc[key])\n",
    "            y_log.append(self.pred_spreads_dc[key])\n",
    "        x_log = np.log10(x_log)\n",
    "        y_log = np.log10(y_log)\n",
    "        plt.plot(x, x, color = 'black')\n",
    "        plt.plot(x_log, y_log, '*', color = 'black')\n",
    "        plt.xlabel(\"Real Spreads\")\n",
    "        plt.ylabel(\"Estimated Spreads\")\n",
    "        plt.title(\"K persistent dc estimation\")\n",
    "        plt.show()\n",
    "    \n",
    "    def draw_dpc(self):\n",
    "        x = np.arange(0, 7, 1)\n",
    "        x_log = []\n",
    "        y_log = []\n",
    "        for key in tqdm(self.pred_spreads_dpc):\n",
    "            x_log.append(self.real_spreads_dpc[key])\n",
    "            y_log.append(self.pred_spreads_dpc[key])\n",
    "        x_log = np.log10(x_log)\n",
    "        y_log = np.log10(y_log)\n",
    "        plt.plot(x, x, color = 'black')\n",
    "        plt.plot(x_log, y_log, '*', color = 'black')\n",
    "        plt.xlabel(\"Real Spreads\")\n",
    "        plt.ylabel(\"Estimated Spreads\")\n",
    "        plt.title(\"K persistent dpc estimation\")\n",
    "        plt.show()\n",
    "    \n",
    "    def draw_sc(self):\n",
    "        x = np.arange(0, 7, 1)\n",
    "        x_log = []\n",
    "        y_log = []\n",
    "        for key in tqdm(self.pred_spreads_sc):\n",
    "            x_log.append(self.real_spreads_sc[key])\n",
    "            y_log.append(self.pred_spreads_sc[key])\n",
    "        x_log = np.log10(x_log)\n",
    "        y_log = np.log10(y_log)\n",
    "        plt.plot(x, x, color= 'black')\n",
    "        plt.plot(x_log, y_log, '*', color = 'black')\n",
    "        plt.xlabel(\"Real Spreads\")\n",
    "        plt.ylabel(\"Estimated Spreads\")\n",
    "        plt.title(\"K persistent sc estimation\")\n",
    "        plt.show()\n",
    "    \n",
    "    def show(self):\n",
    "        print(\"DC measure:\")\n",
    "        print(self.are_dc)\n",
    "        for i in range(7):\n",
    "            print(\"$[10^{},10^{})$: {}\".format(i, i + 1, self.range_are_dc[i]))\n",
    "        print(\"DPC measure:\")\n",
    "        print(self.are_dpc)\n",
    "        for i in range(7):\n",
    "            print(\"$[10^{},10^{})$: {}\".format(i, i + 1, self.range_are_dpc[i]))\n",
    "        print(\"SC measure:\")\n",
    "        print(self.are_sc)\n",
    "        for i in range(7):\n",
    "            print(\"$[10^{},10^{})$: {}\".format(i, i + 1, self.range_are_sc[i]))"
   ]
  },
  {
   "cell_type": "code",
   "execution_count": 3,
   "metadata": {
    "ExecuteTime": {
     "end_time": "2024-07-12T11:20:26.928309Z",
     "start_time": "2024-07-12T11:20:26.925746Z"
    }
   },
   "outputs": [],
   "source": [
    "p = 0.7\n",
    "t = 3\n",
    "k = 3\n",
    "ksc = KSuperCube(p, t, k)"
   ]
  },
  {
   "cell_type": "code",
   "execution_count": 4,
   "metadata": {
    "ExecuteTime": {
     "end_time": "2024-07-12T11:21:50.802690Z",
     "start_time": "2024-07-12T11:20:26.929737Z"
    }
   },
   "outputs": [
    {
     "name": "stdout",
     "output_type": "stream",
     "text": [
      "./real_spreads_dc/00.pkl\n",
      "./real_spreads_dc/01.pkl\n",
      "./real_spreads_dc/02.pkl\n",
      "[Message] DC real dataset has been loaded.\n",
      "./real_spreads_dpc/00.pkl\n",
      "./real_spreads_dpc/01.pkl\n",
      "./real_spreads_dpc/02.pkl\n",
      "[Message] DPC real dataset has been loaded.\n",
      "./real_spreads_sc/00.pkl\n",
      "./real_spreads_sc/01.pkl\n",
      "./real_spreads_sc/02.pkl\n",
      "[Message] SC real dataset has been loaded.\n",
      "./pred_spreads/00.pkl\n"
     ]
    },
    {
     "name": "stderr",
     "output_type": "stream",
     "text": [
      "100%|██████████| 259187/259187 [00:05<00:00, 49930.19it/s] \n"
     ]
    },
    {
     "name": "stdout",
     "output_type": "stream",
     "text": [
      "./pred_spreads/01.pkl\n"
     ]
    },
    {
     "name": "stderr",
     "output_type": "stream",
     "text": [
      "100%|██████████| 261219/261219 [00:06<00:00, 39076.52it/s]\n"
     ]
    },
    {
     "name": "stdout",
     "output_type": "stream",
     "text": [
      "./pred_spreads/02.pkl\n"
     ]
    },
    {
     "name": "stderr",
     "output_type": "stream",
     "text": [
      "100%|██████████| 259961/259961 [00:07<00:00, 33518.54it/s] \n",
      "  0%|          | 0/3 [00:00<?, ?it/s]"
     ]
    },
    {
     "name": "stdout",
     "output_type": "stream",
     "text": [
      "[Message] Dataset has been initted.\n"
     ]
    },
    {
     "name": "stderr",
     "output_type": "stream",
     "text": [
      "100%|██████████| 3/3 [00:02<00:00,  1.28it/s]\n",
      "100%|██████████| 706407/706407 [00:01<00:00, 429510.04it/s]\n",
      "  0%|          | 0/3 [00:00<?, ?it/s]"
     ]
    },
    {
     "name": "stdout",
     "output_type": "stream",
     "text": [
      "[Message] DC real spreads have been finished.\n"
     ]
    },
    {
     "name": "stderr",
     "output_type": "stream",
     "text": [
      "100%|██████████| 3/3 [00:02<00:00,  1.34it/s]\n",
      "100%|██████████| 706407/706407 [00:01<00:00, 504666.98it/s]\n",
      "  0%|          | 0/3 [00:00<?, ?it/s]"
     ]
    },
    {
     "name": "stdout",
     "output_type": "stream",
     "text": [
      "[Message] DPC real spreads have been finished.\n"
     ]
    },
    {
     "name": "stderr",
     "output_type": "stream",
     "text": [
      "100%|██████████| 3/3 [00:03<00:00,  1.17s/it]\n",
      "100%|██████████| 1265897/1265897 [00:02<00:00, 552499.58it/s]"
     ]
    },
    {
     "name": "stdout",
     "output_type": "stream",
     "text": [
      "[Message] SC real spreads have been finished.\n"
     ]
    },
    {
     "name": "stderr",
     "output_type": "stream",
     "text": [
      "\n"
     ]
    }
   ],
   "source": [
    "dir_dc = \"./real_spreads_dc/\"\n",
    "dir_dpc = \"./real_spreads_dpc/\"\n",
    "dir_sc = \"./real_spreads_sc/\"\n",
    "dir_est = \"./pred_spreads/\"\n",
    "ksc.init_data(dir_dc, dir_dpc, dir_sc, dir_est)"
   ]
  },
  {
   "cell_type": "code",
   "execution_count": 5,
   "metadata": {
    "ExecuteTime": {
     "end_time": "2024-07-12T11:21:55.985517Z",
     "start_time": "2024-07-12T11:21:50.804081Z"
    }
   },
   "outputs": [
    {
     "name": "stderr",
     "output_type": "stream",
     "text": [
      "100%|██████████| 706407/706407 [00:03<00:00, 229209.35it/s]\n",
      "100%|██████████| 1265897/1265897 [00:02<00:00, 605385.26it/s]"
     ]
    },
    {
     "name": "stdout",
     "output_type": "stream",
     "text": [
      "[Message] K-dc, K-dpc and K-sc persistent spreads estimation has been finished.\n"
     ]
    },
    {
     "name": "stderr",
     "output_type": "stream",
     "text": [
      "\n"
     ]
    }
   ],
   "source": [
    "ksc.run()"
   ]
  },
  {
   "cell_type": "code",
   "execution_count": 6,
   "metadata": {
    "ExecuteTime": {
     "end_time": "2024-07-12T11:21:56.257177Z",
     "start_time": "2024-07-12T11:21:55.987077Z"
    }
   },
   "outputs": [
    {
     "name": "stderr",
     "output_type": "stream",
     "text": [
      "100%|██████████| 53434/53434 [00:00<00:00, 1160195.47it/s]\n"
     ]
    },
    {
     "data": {
      "image/png": "[encoded data removed]",
      "text/plain": [
       "<Figure size 640x480 with 1 Axes>"
      ]
     },
     "metadata": {},
     "output_type": "display_data"
    }
   ],
   "source": [
    "ksc.draw_dc()"
   ]
  },
  {
   "cell_type": "code",
   "execution_count": 7,
   "metadata": {
    "ExecuteTime": {
     "end_time": "2024-07-12T11:21:56.560427Z",
     "start_time": "2024-07-12T11:21:56.258423Z"
    }
   },
   "outputs": [
    {
     "name": "stderr",
     "output_type": "stream",
     "text": [
      "100%|██████████| 66410/66410 [00:00<00:00, 1029314.14it/s]\n"
     ]
    },
    {
     "data": {
      "image/png": "[encoded data removed]",
      "text/plain": [
       "<Figure size 640x480 with 1 Axes>"
      ]
     },
     "metadata": {},
     "output_type": "display_data"
    }
   ],
   "source": [
    "ksc.draw_dpc()"
   ]
  },
  {
   "cell_type": "code",
   "execution_count": 8,
   "metadata": {
    "ExecuteTime": {
     "end_time": "2024-07-12T11:21:56.857247Z",
     "start_time": "2024-07-12T11:21:56.562239Z"
    }
   },
   "outputs": [
    {
     "name": "stderr",
     "output_type": "stream",
     "text": [
      "100%|██████████| 66915/66915 [00:00<00:00, 1126228.82it/s]\n"
     ]
    },
    {
     "data": {
      "image/png": "[encoded data removed]",
      "text/plain": [
       "<Figure size 640x480 with 1 Axes>"
      ]
     },
     "metadata": {},
     "output_type": "display_data"
    }
   ],
   "source": [
    "ksc.draw_sc()"
   ]
  },
  {
   "cell_type": "code",
   "execution_count": 9,
   "metadata": {
    "ExecuteTime": {
     "end_time": "2024-07-12T11:21:56.861412Z",
     "start_time": "2024-07-12T11:21:56.858511Z"
    }
   },
   "outputs": [
    {
     "name": "stdout",
     "output_type": "stream",
     "text": [
      "DC measure:\n",
      "0.5674442737686433\n",
      "$[10^0,10^1)$: 0.5900626622220935\n",
      "$[10^1,10^2)$: 0.2074814823188168\n",
      "$[10^2,10^3)$: 0.09619770325580866\n",
      "$[10^3,10^4)$: 0.1133222731827435\n",
      "$[10^4,10^5)$: 0\n",
      "$[10^5,10^6)$: 0\n",
      "$[10^6,10^7)$: 0\n",
      "DPC measure:\n",
      "0.5033417664722223\n",
      "$[10^0,10^1)$: 0.5117752525642454\n",
      "$[10^1,10^2)$: 0.2373821050865152\n",
      "$[10^2,10^3)$: 0.08744240244905266\n",
      "$[10^3,10^4)$: 0.04798028025230014\n",
      "$[10^4,10^5)$: 0\n",
      "$[10^5,10^6)$: 0\n",
      "$[10^6,10^7)$: 0\n",
      "SC measure:\n",
      "0.5890485513053527\n",
      "$[10^0,10^1)$: 0.5996664556984485\n",
      "$[10^1,10^2)$: 0.25409631602192156\n",
      "$[10^2,10^3)$: 0.10053666338197835\n",
      "$[10^3,10^4)$: 0.04699729453502823\n",
      "$[10^4,10^5)$: 0\n",
      "$[10^5,10^6)$: 0\n",
      "$[10^6,10^7)$: 0\n"
     ]
    }
   ],
   "source": [
    "ksc.show()"
   ]
  }
 ],
 "metadata": {
  "kernelspec": {
   "display_name": "Python 3",
   "language": "python",
   "name": "python3"
  },
  "language_info": {
   "codemirror_mode": {
    "name": "ipython",
    "version": 3
   },
   "file_extension": ".py",
   "mimetype": "text/x-python",
   "name": "python",
   "nbconvert_exporter": "python",
   "pygments_lexer": "ipython3",
   "version": "3.7.4"
  },
  "latex_envs": {
   "LaTeX_envs_menu_present": true,
   "autoclose": false,
   "autocomplete": true,
   "bibliofile": "biblio.bib",
   "cite_by": "apalike",
   "current_citInitial": 1,
   "eqLabelWithNumbers": true,
   "eqNumInitial": 1,
   "hotkeys": {
    "equation": "Ctrl-E",
    "itemize": "Ctrl-I"
   },
   "labels_anchors": false,
   "latex_user_defs": false,
   "report_style_numbering": false,
   "user_envs_cfg": false
  },
  "toc": {
   "base_numbering": 1,
   "nav_menu": {},
   "number_sections": true,
   "sideBar": true,
   "skip_h1_title": false,
   "title_cell": "Table of Contents",
   "title_sidebar": "Contents",
   "toc_cell": false,
   "toc_position": {},
   "toc_section_display": true,
   "toc_window_display": false
  }
 },
 "nbformat": 4,
 "nbformat_minor": 2
}
