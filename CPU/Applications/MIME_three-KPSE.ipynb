{
 "cells": [
  {
   "cell_type": "code",
   "execution_count": 9,
   "metadata": {
    "ExecuteTime": {
     "end_time": "2024-05-15T08:40:40.697803Z",
     "start_time": "2024-05-15T08:40:40.691264Z"
    }
   },
   "outputs": [],
   "source": [
    "import mmh3\n",
    "import pickle\n",
    "import numpy as np\n",
    "from tqdm import tqdm\n",
    "from collections import defaultdict\n",
    "import pandas as pd\n",
    "import matplotlib.pyplot as plt"
   ]
  },
  {
   "cell_type": "code",
   "execution_count": 10,
   "metadata": {
    "ExecuteTime": {
     "end_time": "2024-05-15T08:40:41.344953Z",
     "start_time": "2024-05-15T08:40:41.340538Z"
    }
   },
   "outputs": [],
   "source": [
    "plot_titles = {\n",
    "    0: \"per-source destination flow\",\n",
    "    1: \"per-source port flow\",\n",
    "    2: \"per-destination source flow\",\n",
    "    3: \"per-service source flow\",\n",
    "    4: \"per-source service flow\"\n",
    "}"
   ]
  },
  {
   "cell_type": "code",
   "execution_count": 3,
   "metadata": {
    "ExecuteTime": {
     "end_time": "2024-05-12T06:20:04.304975Z",
     "start_time": "2024-05-12T06:20:04.283026Z"
    }
   },
   "outputs": [],
   "source": [
    "class MIME:\n",
    "    '''\n",
    "     prob: the overall sampling rate of MIME\n",
    "     bits: the number of total bits in MIME\n",
    "    '''\n",
    "    def __init__(self, prob, bits, seed):\n",
    "        self.prob = prob\n",
    "        self.bits = bits\n",
    "        self.B = np.zeros(shape = (self.bits, ), dtype = np.int8)\n",
    "        self.hash_seed = seed\n",
    "        self.bitcube = dict()\n",
    "        self.invbitcube = dict()\n",
    "        self.servicebitcube = dict()\n",
    "        self.sample_nums = 0\n",
    "        self.count_one = 0\n",
    "        self.post_sampling_rate = prob\n",
    "        self.split_num = int(round(1 / self.prob))\n",
    "        self.real_spread_set_dc = defaultdict(set)\n",
    "        self.real_spread_set_dpc = defaultdict(set)\n",
    "        self.real_spread_set_sc = defaultdict(set)\n",
    "        self.real_spread_set_service = defaultdict(set)\n",
    "        self.real_spread_set_sservice = defaultdict(set)\n",
    "        \n",
    "        self.real_spreads_dc = defaultdict(int)\n",
    "        self.pred_spreads_dc = defaultdict(int)\n",
    "        self.real_spreads_dpc = defaultdict(int)\n",
    "        self.real_spread_service = defaultdict(int)\n",
    "        self.real_spread_sservice = defaultdict(int)\n",
    "        \n",
    "        self.pred_spreads_dpc = defaultdict(int)\n",
    "        self.real_spreads_sc = defaultdict(int)\n",
    "        self.pred_spreads_sc = defaultdict(int)\n",
    "        self.pred_spreads_service = defaultdict(int)\n",
    "        self.pred_spreads_sservice = defaultdict(int) \n",
    "        \n",
    "        self.are_dc = 0\n",
    "        self.are_dpc = 0\n",
    "        self.are_sc = 0\n",
    "        self.are_service = 0\n",
    "        self.are_sservice = 0\n",
    "        \n",
    "        self.dc_count = 0\n",
    "        self.dpc_count = 0\n",
    "        self.sc_count = 0\n",
    "        self.service_count = 0\n",
    "        self.sservice_count = 0\n",
    "        \n",
    "        self.are_range_dc = dict()\n",
    "        self.are_range_dpc = dict()\n",
    "        self.are_range_sc = dict()\n",
    "        self.are_range_service = dict()\n",
    "        self.are_range_sservice = dict()\n",
    "        \n",
    "        self.are_count_dc = dict()\n",
    "        self.are_count_dpc = dict()\n",
    "        self.are_count_sc = dict()\n",
    "        self.are_count_service = dict()\n",
    "        self.are_count_sservice = dict()\n",
    "        \n",
    "        for i in range(7):\n",
    "            self.are_count_dc[i] = 0\n",
    "            self.are_count_dpc[i] = 0\n",
    "            self.are_count_sc[i] = 0\n",
    "            self.are_count_service[i] = 0\n",
    "            self.are_count_sservice[i] = 0\n",
    "            \n",
    "            self.are_range_dc[i] = 0\n",
    "            self.are_range_dpc[i] = 0\n",
    "            self.are_range_sc[i] = 0\n",
    "            self.are_range_service[i] = 0\n",
    "            self.are_range_sservice[i] = 0\n",
    "    \n",
    "    def sample(self, src, dst, port):\n",
    "        key = src + dst + port\n",
    "        hash_idx = mmh3.hash(key, seed = self.hash_seed) % self.bits\n",
    "        if self.B[hash_idx] == 0:\n",
    "            #sample_idx = mmh3.hash(key, seed = self.sample_seed) % 0xffffffff\n",
    "            self.B[hash_idx] = 1\n",
    "            self.count_one += 1\n",
    "            #if sample_idx <= self.post_sampling_rate * 0xffffffff:\n",
    "            if hash_idx <= self.post_sampling_rate * self.bits:\n",
    "                if src not in self.bitcube:\n",
    "                    self.bitcube[src] = {dst : {port}}\n",
    "                else:\n",
    "                    if dst not in self.bitcube[src]:\n",
    "                        self.bitcube[src][dst] = {port}\n",
    "                    else:\n",
    "                        self.bitcube[src][dst].add(port)\n",
    "                self.sample_nums += 1\n",
    "            self.post_sampling_rate = (self.prob * self.bits) / (self.bits - self.count_one)\n",
    "    \n",
    "    def build_inv_table(self):\n",
    "        for src in self.bitcube:\n",
    "            for dst in self.bitcube[src]:\n",
    "                if dst not in self.invbitcube:\n",
    "                    self.invbitcube[dst] = {src : self.bitcube[src][dst]}\n",
    "                else:\n",
    "                    if src not in self.invbitcube[dst]:\n",
    "                        self.invbitcube[dst][src] = self.bitcube[src][dst]\n",
    "    \n",
    "    def build_service_table(self):\n",
    "        for dst in self.invbitcube:\n",
    "            self.servicebitcube[dst] = dict()\n",
    "            for src in self.invbitcube[dst]:\n",
    "                for port in self.invbitcube[dst][src]:\n",
    "                    if port not in self.servicebitcube[dst]:\n",
    "                        self.servicebitcube[dst][port] = {src}\n",
    "                    else:\n",
    "                        self.servicebitcube[dst][port].add(src)\n",
    "    \n",
    "    def estimate(self, key, task): # flow label：1 element label：1\n",
    "        length_dict, num_dict = defaultdict(int), defaultdict(int)\n",
    "        if task == 0: # DC estimation\n",
    "            if key not in self.bitcube:\n",
    "                return 1\n",
    "            temp_bitarray = self.bitcube[key]\n",
    "            for index in temp_bitarray:\n",
    "                length_dict[index] = len(temp_bitarray[index])\n",
    "            for index in length_dict:\n",
    "                num_dict[length_dict[index]] += 1\n",
    "        elif task == 1: # DPC estimation\n",
    "            if key not in self.bitcube:\n",
    "                return 1\n",
    "            temp_bitarray = self.bitcube[key]\n",
    "            for dst in temp_bitarray:\n",
    "                for port in temp_bitarray[dst]:\n",
    "                    length_dict[port] += 1\n",
    "            for index in length_dict:\n",
    "                num_dict[length_dict[index]] += 1\n",
    "        elif task == 2: # SC estimation\n",
    "            if key not in self.invbitcube:\n",
    "                return 1\n",
    "            temp_bitarray = self.invbitcube[key]\n",
    "            for index in temp_bitarray:\n",
    "                length_dict[index] = len(temp_bitarray[index])\n",
    "            for index in length_dict:\n",
    "                num_dict[length_dict[index]] += 1\n",
    "        estimate_val = 0.0\n",
    "        for k,v in num_dict.items():\n",
    "            if k <=  self.split_num:\n",
    "                estimate_val += v / (1 - (1 - self.prob) ** k)\n",
    "            else:\n",
    "                estimate_val += v / (1 - (1 - self.prob) ** (k / self.prob))\n",
    "        return int(round(estimate_val))\n",
    "    \n",
    "    def estimate_per_service_flow(self, key):\n",
    "        '''\n",
    "            per-service flow的流标签由dst和port相结合 flow label：2 element label：1\n",
    "        '''\n",
    "        if key[0] not in self.servicebitcube:\n",
    "            return 1\n",
    "        temp_bitarray = self.servicebitcube[key[0]]\n",
    "        if key[1] not in temp_bitarray:\n",
    "            return 1\n",
    "        else:\n",
    "            return int(round(len(temp_bitarray[key[1]]) / self.prob))\n",
    "    \n",
    "    def estimate_per_source_service_flow(self, key):\n",
    "        '''\n",
    "            per-source service flow的流标签由源地址组成，元素标签由目的地址和目的端口组成 flow label：1 element label：2\n",
    "        '''\n",
    "        if key not in self.bitcube:\n",
    "            return 1\n",
    "        sum_bits = 0\n",
    "        for ele in self.bitcube[key]:\n",
    "            sum_bits += len(self.bitcube[key][ele])\n",
    "        return int(round(sum_bits / self.prob))\n",
    "        \n",
    "    def run(self, filename):\n",
    "        f = open(filename, 'r')\n",
    "        datas = f.readlines()\n",
    "        f.close()\n",
    "        for pkt in tqdm(datas):\n",
    "            src, dst, port = pkt.strip().split(\",\")\n",
    "            self.real_spread_set_dc[src].add(dst)\n",
    "            self.real_spread_set_dpc[src].add(port)\n",
    "            self.real_spread_set_sc[dst].add(src)\n",
    "            self.real_spread_set_service[dst + \" \" + port].add(src)\n",
    "            self.real_spread_set_sservice[src].add(dst+ \" \" + port)\n",
    "            self.sample(src, dst, port)\n",
    "    \n",
    "    def save_file(self, filename1, filename2):\n",
    "        f = open(filename1, 'wb')\n",
    "        pickle.dump(self.real_spread_set_dc, f)\n",
    "        f.close()\n",
    "        f = open(filename2, 'wb')\n",
    "        pickle.dump(self.bitcube, f)\n",
    "        f.close()"
   ]
  },
  {
   "cell_type": "code",
   "execution_count": 4,
   "metadata": {
    "ExecuteTime": {
     "end_time": "2024-05-12T06:20:04.308315Z",
     "start_time": "2024-05-12T06:20:04.306222Z"
    }
   },
   "outputs": [],
   "source": [
    "import math\n",
    "def getOptParams(N, p):\n",
    "    return int(round(-1.0 * N / math.log(p)))"
   ]
  },
  {
   "cell_type": "code",
   "execution_count": 13,
   "metadata": {
    "ExecuteTime": {
     "end_time": "2024-05-15T08:41:15.367760Z",
     "start_time": "2024-05-15T08:41:13.613623Z"
    }
   },
   "outputs": [
    {
     "name": "stdout",
     "output_type": "stream",
     "text": [
      "6803778  bits,  830.539306640625 KB.\n"
     ]
    },
    {
     "name": "stderr",
     "output_type": "stream",
     "text": [
      "  1%|          | 20254/2426737 [00:01<02:11, 18291.98it/s]\n"
     ]
    },
    {
     "ename": "KeyboardInterrupt",
     "evalue": "",
     "output_type": "error",
     "traceback": [
      "\u001b[0;31m---------------------------------------------------------------------------\u001b[0m",
      "\u001b[0;31mKeyboardInterrupt\u001b[0m                         Traceback (most recent call last)",
      "\u001b[0;32m<ipython-input-13-3da6ce66537e>\u001b[0m in \u001b[0;36m<module>\u001b[0;34m\u001b[0m\n\u001b[1;32m     13\u001b[0m \u001b[0mprint\u001b[0m\u001b[0;34m(\u001b[0m\u001b[0mbits\u001b[0m\u001b[0;34m,\u001b[0m \u001b[0;34m\" bits, \"\u001b[0m\u001b[0;34m,\u001b[0m \u001b[0mbits\u001b[0m \u001b[0;34m/\u001b[0m \u001b[0;36m8\u001b[0m \u001b[0;34m/\u001b[0m\u001b[0;36m1024\u001b[0m \u001b[0;34m,\u001b[0m \u001b[0;34m\"KB.\"\u001b[0m\u001b[0;34m)\u001b[0m\u001b[0;34m\u001b[0m\u001b[0;34m\u001b[0m\u001b[0m\n\u001b[1;32m     14\u001b[0m \u001b[0mmime\u001b[0m \u001b[0;34m=\u001b[0m \u001b[0mMIME\u001b[0m\u001b[0;34m(\u001b[0m\u001b[0mp\u001b[0m\u001b[0;34m,\u001b[0m \u001b[0mbits\u001b[0m\u001b[0;34m,\u001b[0m \u001b[0mseed1\u001b[0m\u001b[0;34m)\u001b[0m\u001b[0;34m\u001b[0m\u001b[0;34m\u001b[0m\u001b[0m\n\u001b[0;32m---> 15\u001b[0;31m \u001b[0mmime\u001b[0m\u001b[0;34m.\u001b[0m\u001b[0mrun\u001b[0m\u001b[0;34m(\u001b[0m\u001b[0mfilename\u001b[0m\u001b[0;34m)\u001b[0m\u001b[0;34m\u001b[0m\u001b[0;34m\u001b[0m\u001b[0m\n\u001b[0m\u001b[1;32m     16\u001b[0m \u001b[0mmime\u001b[0m\u001b[0;34m.\u001b[0m\u001b[0msave_file\u001b[0m\u001b[0;34m(\u001b[0m\u001b[0mfilename1\u001b[0m\u001b[0;34m,\u001b[0m \u001b[0mfilename2\u001b[0m\u001b[0;34m)\u001b[0m\u001b[0;34m\u001b[0m\u001b[0;34m\u001b[0m\u001b[0m\n",
      "\u001b[0;32m<ipython-input-3-6d1e6cbf5593>\u001b[0m in \u001b[0;36mrun\u001b[0;34m(self, filename)\u001b[0m\n\u001b[1;32m    173\u001b[0m         \u001b[0;32mfor\u001b[0m \u001b[0mpkt\u001b[0m \u001b[0;32min\u001b[0m \u001b[0mtqdm\u001b[0m\u001b[0;34m(\u001b[0m\u001b[0mdatas\u001b[0m\u001b[0;34m)\u001b[0m\u001b[0;34m:\u001b[0m\u001b[0;34m\u001b[0m\u001b[0;34m\u001b[0m\u001b[0m\n\u001b[1;32m    174\u001b[0m             \u001b[0msrc\u001b[0m\u001b[0;34m,\u001b[0m \u001b[0mdst\u001b[0m\u001b[0;34m,\u001b[0m \u001b[0mport\u001b[0m \u001b[0;34m=\u001b[0m \u001b[0mpkt\u001b[0m\u001b[0;34m.\u001b[0m\u001b[0mstrip\u001b[0m\u001b[0;34m(\u001b[0m\u001b[0;34m)\u001b[0m\u001b[0;34m.\u001b[0m\u001b[0msplit\u001b[0m\u001b[0;34m(\u001b[0m\u001b[0;34m\",\"\u001b[0m\u001b[0;34m)\u001b[0m\u001b[0;34m\u001b[0m\u001b[0;34m\u001b[0m\u001b[0m\n\u001b[0;32m--> 175\u001b[0;31m             \u001b[0mself\u001b[0m\u001b[0;34m.\u001b[0m\u001b[0mreal_spread_set_dc\u001b[0m\u001b[0;34m[\u001b[0m\u001b[0msrc\u001b[0m\u001b[0;34m]\u001b[0m\u001b[0;34m.\u001b[0m\u001b[0madd\u001b[0m\u001b[0;34m(\u001b[0m\u001b[0mdst\u001b[0m\u001b[0;34m)\u001b[0m\u001b[0;34m\u001b[0m\u001b[0;34m\u001b[0m\u001b[0m\n\u001b[0m\u001b[1;32m    176\u001b[0m             \u001b[0mself\u001b[0m\u001b[0;34m.\u001b[0m\u001b[0mreal_spread_set_dpc\u001b[0m\u001b[0;34m[\u001b[0m\u001b[0msrc\u001b[0m\u001b[0;34m]\u001b[0m\u001b[0;34m.\u001b[0m\u001b[0madd\u001b[0m\u001b[0;34m(\u001b[0m\u001b[0mport\u001b[0m\u001b[0;34m)\u001b[0m\u001b[0;34m\u001b[0m\u001b[0;34m\u001b[0m\u001b[0m\n\u001b[1;32m    177\u001b[0m             \u001b[0mself\u001b[0m\u001b[0;34m.\u001b[0m\u001b[0mreal_spread_set_sc\u001b[0m\u001b[0;34m[\u001b[0m\u001b[0mdst\u001b[0m\u001b[0;34m]\u001b[0m\u001b[0;34m.\u001b[0m\u001b[0madd\u001b[0m\u001b[0;34m(\u001b[0m\u001b[0msrc\u001b[0m\u001b[0;34m)\u001b[0m\u001b[0;34m\u001b[0m\u001b[0;34m\u001b[0m\u001b[0m\n",
      "\u001b[0;31mKeyboardInterrupt\u001b[0m: "
     ]
    }
   ],
   "source": [
    "seed1 = 12412\n",
    "seed2 = 87123\n",
    "seed3 = 42131\n",
    "filename = \"../datas/kpse_datas/02.txt\"\n",
    "filename1 = \"./real_spreads_dc/02.pkl\"\n",
    "filename2 = \"./pred_spreads/02.pkl\"\n",
    "f = open(filename, 'r')\n",
    "dat = f.readlines()\n",
    "f.close()\n",
    "N = len(dat) #10542501\n",
    "p = 0.7\n",
    "bits = getOptParams(N, p)\n",
    "print(bits, \" bits, \", bits / 8 /1024 , \"KB.\")\n",
    "mime = MIME(p, bits, seed1)\n",
    "mime.run(filename)\n",
    "mime.save_file(filename1, filename2)"
   ]
  }
 ],
 "metadata": {
  "kernelspec": {
   "display_name": "Python 3",
   "language": "python",
   "name": "python3"
  },
  "language_info": {
   "codemirror_mode": {
    "name": "ipython",
    "version": 3
   },
   "file_extension": ".py",
   "mimetype": "text/x-python",
   "name": "python",
   "nbconvert_exporter": "python",
   "pygments_lexer": "ipython3",
   "version": "3.7.4"
  },
  "latex_envs": {
   "LaTeX_envs_menu_present": true,
   "autoclose": false,
   "autocomplete": true,
   "bibliofile": "biblio.bib",
   "cite_by": "apalike",
   "current_citInitial": 1,
   "eqLabelWithNumbers": true,
   "eqNumInitial": 1,
   "hotkeys": {
    "equation": "Ctrl-E",
    "itemize": "Ctrl-I"
   },
   "labels_anchors": false,
   "latex_user_defs": false,
   "report_style_numbering": false,
   "user_envs_cfg": false
  },
  "toc": {
   "base_numbering": 1,
   "nav_menu": {},
   "number_sections": true,
   "sideBar": true,
   "skip_h1_title": false,
   "title_cell": "Table of Contents",
   "title_sidebar": "Contents",
   "toc_cell": false,
   "toc_position": {},
   "toc_section_display": true,
   "toc_window_display": false
  }
 },
 "nbformat": 4,
 "nbformat_minor": 2
}
